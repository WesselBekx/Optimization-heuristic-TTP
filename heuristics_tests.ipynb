{
 "cells": [
  {
   "cell_type": "markdown",
   "id": "4740c04e",
   "metadata": {},
   "source": [
    "# Heuristics Tests for the Traveling Tournament Problem (TTP)\n",
    "This notebook tests several heuristics, meta-heuristics, and hybrid methods to solve (usually large) instances of the conventional TTP."
   ]
  },
  {
   "cell_type": "code",
   "execution_count": 3,
   "id": "b7df77fc",
   "metadata": {},
   "outputs": [],
   "source": [
    "# import libraries\n",
    "\n",
    "import networkx as nx\n",
    "import numpy as np\n",
    "import pandas as pd\n",
    "import random as rd\n",
    "import xmltodict, json"
   ]
  },
  {
   "cell_type": "markdown",
   "id": "a044d9cb",
   "metadata": {},
   "source": [
    "### Parse Data"
   ]
  },
  {
   "cell_type": "code",
   "execution_count": 5,
   "id": "f8a42422",
   "metadata": {},
   "outputs": [
    {
     "name": "stdout",
     "output_type": "stream",
     "text": [
      "{\"Instance\": {\"MetaData\": {\"InstanceName\": \"NL4\", \"DataType\": \"A\", \"Contributor\": \"Easton, Nemhauser, and Trick\", \"Date\": {\"@day\": \"0\", \"@month\": \"0\", \"@year\": \"2001\"}, \"Country\": null, \"Remarks\": \"Based on National Hockey League\", \"Lowerbound\": {\"@infeasibility\": \"0\", \"@objective\": \"0\"}}, \"Structure\": {\"Format\": {\"@leagueIds\": \"0\", \"numberRoundRobin\": \"2\", \"compactness\": \"C\"}, \"AdditionalGames\": null}, \"ObjectiveFunction\": {\"Objective\": \"TR\"}, \"Data\": {\"Distances\": {\"distance\": [{\"@dist\": \"0\", \"@team1\": \"0\", \"@team2\": \"0\"}, {\"@dist\": \"745\", \"@team1\": \"0\", \"@team2\": \"1\"}, {\"@dist\": \"665\", \"@team1\": \"0\", \"@team2\": \"2\"}, {\"@dist\": \"929\", \"@team1\": \"0\", \"@team2\": \"3\"}, {\"@dist\": \"745\", \"@team1\": \"1\", \"@team2\": \"0\"}, {\"@dist\": \"0\", \"@team1\": \"1\", \"@team2\": \"1\"}, {\"@dist\": \"80\", \"@team1\": \"1\", \"@team2\": \"2\"}, {\"@dist\": \"337\", \"@team1\": \"1\", \"@team2\": \"3\"}, {\"@dist\": \"665\", \"@team1\": \"2\", \"@team2\": \"0\"}, {\"@dist\": \"80\", \"@team1\": \"2\", \"@team2\": \"1\"}, {\"@dist\": \"0\", \"@team1\": \"2\", \"@team2\": \"2\"}, {\"@dist\": \"380\", \"@team1\": \"2\", \"@team2\": \"3\"}, {\"@dist\": \"929\", \"@team1\": \"3\", \"@team2\": \"0\"}, {\"@dist\": \"337\", \"@team1\": \"3\", \"@team2\": \"1\"}, {\"@dist\": \"380\", \"@team1\": \"3\", \"@team2\": \"2\"}, {\"@dist\": \"0\", \"@team1\": \"3\", \"@team2\": \"3\"}]}, \"COEWeights\": null, \"Costs\": null}, \"Resources\": {\"TeamGroups\": {\"teamGroup\": {\"@id\": \"0\", \"@name\": \"All teams\"}}, \"LeagueGroups\": null, \"Leagues\": {\"league\": {\"@id\": \"0\", \"@name\": \"League 0\"}}, \"Teams\": {\"team\": [{\"@id\": \"0\", \"@league\": \"0\", \"@name\": \"ATL\", \"@teamGroups\": \"0\"}, {\"@id\": \"1\", \"@league\": \"0\", \"@name\": \"NYM\", \"@teamGroups\": \"0\"}, {\"@id\": \"2\", \"@league\": \"0\", \"@name\": \"PHI\", \"@teamGroups\": \"0\"}, {\"@id\": \"3\", \"@league\": \"0\", \"@name\": \"MON\", \"@teamGroups\": \"0\"}]}, \"SlotGroups\": null, \"Slots\": {\"slot\": [{\"@id\": \"0\", \"@name\": \"Slot0\"}, {\"@id\": \"1\", \"@name\": \"Slot1\"}, {\"@id\": \"2\", \"@name\": \"Slot2\"}, {\"@id\": \"3\", \"@name\": \"Slot3\"}, {\"@id\": \"4\", \"@name\": \"Slot4\"}, {\"@id\": \"5\", \"@name\": \"Slot5\"}]}}, \"Constraints\": {\"BasicConstraints\": null, \"CapacityConstraints\": {\"CA3\": [{\"@intp\": \"4\", \"@max\": \"3\", \"@min\": \"0\", \"@mode1\": \"H\", \"@mode2\": \"GAMES\", \"@penalty\": \"1\", \"@teamGroups1\": \"0\", \"@teamGroups2\": \"0\", \"@type\": \"HARD\"}, {\"@intp\": \"4\", \"@max\": \"3\", \"@min\": \"0\", \"@mode1\": \"A\", \"@mode2\": \"GAMES\", \"@penalty\": \"1\", \"@teamGroups1\": \"0\", \"@teamGroups2\": \"0\", \"@type\": \"HARD\"}]}, \"GameConstraints\": null, \"BreakConstraints\": null, \"FairnessConstraints\": null, \"SeparationConstraints\": {\"SE1\": {\"@max\": \"6\", \"@min\": \"1\", \"@penalty\": \"1\", \"@teamGroups\": \"0\", \"@type\": \"HARD\"}}}}}\n"
     ]
    }
   ],
   "source": [
    "# Convert XML data to JSON\n",
    "\n",
    "nl4 = xmltodict.parse(open('NL4.xml').read())\n",
    "nl4 = json.dumps(nl4)\n",
    "print(nl4)"
   ]
  },
  {
   "cell_type": "code",
   "execution_count": null,
   "id": "506c0237",
   "metadata": {},
   "outputs": [],
   "source": [
    "# Obtain relevant data\n"
   ]
  },
  {
   "cell_type": "markdown",
   "id": "eb3421a5",
   "metadata": {},
   "source": [
    "### Greedy Algorithm"
   ]
  },
  {
   "cell_type": "code",
   "execution_count": 10,
   "id": "b57965c8",
   "metadata": {},
   "outputs": [],
   "source": [
    "def greedy_algorithm(n: int) -> dict:\n",
    "    \"\"\"\n",
    "    Greedy algorithm for producing a compact single round-robin schedule for n teams.\n",
    "    This schedule forms the first half of a double round-robin (DRR) solution.\n",
    "\n",
    "    Input:\n",
    "        - n: int --> number of participating teams (must be even for a proper round-robin)\n",
    "    Output:\n",
    "        - initial_srr_sol: dict --> initial solution for the single round-robin (SRR), \n",
    "                                     where keys are round indices (0 to n-2) and values \n",
    "                                     are lists of matchups (tuples of teams).\n",
    "    \"\"\"\n",
    "    num_rounds = n - 1\n",
    "    initial_srr_sol = {i: [] for i in range(num_rounds)}\n",
    "\n",
    "    lexographical_matchups = [(i, j) for i in range(n) for j in range(i + 1, n)]\n",
    "    \n",
    "    current_round = 0\n",
    "    while lexographical_matchups:\n",
    "        matchup = lexographical_matchups.pop(0) \n",
    "        team_a, team_b = matchup\n",
    "        match_placed = False\n",
    "        \n",
    "        for _ in range(num_rounds):\n",
    "            round_index = current_round % num_rounds\n",
    "        \n",
    "            \n",
    "            # Get all teams currently scheduled in the target round\n",
    "            teams_in_round = set()\n",
    "            for existing_match in initial_srr_sol[round_index]:\n",
    "                teams_in_round.add(existing_match[0])\n",
    "                teams_in_round.add(existing_match[1])\n",
    "\n",
    "            # Check for clash\n",
    "            if team_a not in teams_in_round and team_b not in teams_in_round:\n",
    "                initial_srr_sol[round_index].append(matchup)\n",
    "                match_placed = True\n",
    "                current_round = (round_index + 1) % num_rounds\n",
    "                break\n",
    "            else:    \n",
    "                current_round = (current_round + 1) % num_rounds\n",
    "    #Make the drr\n",
    "    initial_drr_sol = initial_srr_sol.copy()\n",
    "    for i in range(num_rounds):\n",
    "        initial_drr_sol[num_rounds + i] = initial_srr_sol[i]\n",
    "\n",
    "    return initial_drr_sol\n"
   ]
  },
  {
   "cell_type": "code",
   "execution_count": 11,
   "id": "dc6cdb9d",
   "metadata": {},
   "outputs": [
    {
     "name": "stdout",
     "output_type": "stream",
     "text": [
      "{0: [(0, 1), (2, 8), (3, 7), (4, 6), (5, 9)], 1: [(0, 2), (1, 9), (3, 8), (4, 7), (5, 6)], 2: [(0, 3), (1, 2), (4, 8), (5, 7), (6, 9)], 3: [(0, 4), (1, 3), (2, 9), (5, 8), (6, 7)], 4: [(0, 5), (1, 4), (2, 3), (6, 8), (7, 9)], 5: [(0, 6), (1, 5), (2, 4), (3, 9), (7, 8)], 6: [(0, 7), (1, 6), (2, 5), (3, 4), (8, 9)], 7: [(0, 8), (1, 7), (2, 6), (3, 5), (4, 9)], 8: [(0, 9), (1, 8), (2, 7), (3, 6), (4, 5)], 9: [(0, 1), (2, 8), (3, 7), (4, 6), (5, 9)], 10: [(0, 2), (1, 9), (3, 8), (4, 7), (5, 6)], 11: [(0, 3), (1, 2), (4, 8), (5, 7), (6, 9)], 12: [(0, 4), (1, 3), (2, 9), (5, 8), (6, 7)], 13: [(0, 5), (1, 4), (2, 3), (6, 8), (7, 9)], 14: [(0, 6), (1, 5), (2, 4), (3, 9), (7, 8)], 15: [(0, 7), (1, 6), (2, 5), (3, 4), (8, 9)], 16: [(0, 8), (1, 7), (2, 6), (3, 5), (4, 9)], 17: [(0, 9), (1, 8), (2, 7), (3, 6), (4, 5)]}\n"
     ]
    }
   ],
   "source": [
    "test = greedy_algorithm(10)\n",
    "print(test)"
   ]
  },
  {
   "cell_type": "code",
   "execution_count": 2,
   "id": "1277213a",
   "metadata": {},
   "outputs": [
    {
     "name": "stdout",
     "output_type": "stream",
     "text": [
      "[(0, 1), (0, 2), (0, 3), (1, 2), (1, 3), (2, 3)]\n"
     ]
    }
   ],
   "source": [
    "n = 4\n",
    "lexographical_matchups = [(i, j) for i in range(n - 1) for j in range(i + 1, n)]\n",
    "print(lexographical_matchups)"
   ]
  },
  {
   "cell_type": "markdown",
   "id": "9d04a64b",
   "metadata": {},
   "source": [
    "### Simulated Annealing / Tabu Search"
   ]
  },
  {
   "cell_type": "code",
   "execution_count": null,
   "id": "40d7c627",
   "metadata": {},
   "outputs": [],
   "source": []
  }
 ],
 "metadata": {
  "kernelspec": {
   "display_name": "Python 3",
   "language": "python",
   "name": "python3"
  },
  "language_info": {
   "codemirror_mode": {
    "name": "ipython",
    "version": 3
   },
   "file_extension": ".py",
   "mimetype": "text/x-python",
   "name": "python",
   "nbconvert_exporter": "python",
   "pygments_lexer": "ipython3",
   "version": "3.11.3"
  }
 },
 "nbformat": 4,
 "nbformat_minor": 5
}
