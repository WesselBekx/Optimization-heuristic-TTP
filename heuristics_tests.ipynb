{
 "cells": [
  {
   "cell_type": "markdown",
   "id": "4740c04e",
   "metadata": {},
   "source": [
    "# Heuristics Tests for the Traveling Tournament Problem (TTP)\n",
    "This notebook tests several heuristics, meta-heuristics, and hybrid methods to solve (usually large) instances of the conventional TTP."
   ]
  },
  {
   "cell_type": "code",
   "execution_count": 3,
   "id": "b7df77fc",
   "metadata": {},
   "outputs": [],
   "source": [
    "# import libraries\n",
    "\n",
    "import networkx as nx\n",
    "import numpy as np\n",
    "import pandas as pd\n",
    "import random as rd\n",
    "import xmltodict, json"
   ]
  },
  {
   "cell_type": "markdown",
   "id": "a044d9cb",
   "metadata": {},
   "source": [
    "### Parse Data"
   ]
  },
  {
   "cell_type": "code",
   "execution_count": 5,
   "id": "f8a42422",
   "metadata": {},
   "outputs": [
    {
     "name": "stdout",
     "output_type": "stream",
     "text": [
      "{\"Instance\": {\"MetaData\": {\"InstanceName\": \"NL4\", \"DataType\": \"A\", \"Contributor\": \"Easton, Nemhauser, and Trick\", \"Date\": {\"@day\": \"0\", \"@month\": \"0\", \"@year\": \"2001\"}, \"Country\": null, \"Remarks\": \"Based on National Hockey League\", \"Lowerbound\": {\"@infeasibility\": \"0\", \"@objective\": \"0\"}}, \"Structure\": {\"Format\": {\"@leagueIds\": \"0\", \"numberRoundRobin\": \"2\", \"compactness\": \"C\"}, \"AdditionalGames\": null}, \"ObjectiveFunction\": {\"Objective\": \"TR\"}, \"Data\": {\"Distances\": {\"distance\": [{\"@dist\": \"0\", \"@team1\": \"0\", \"@team2\": \"0\"}, {\"@dist\": \"745\", \"@team1\": \"0\", \"@team2\": \"1\"}, {\"@dist\": \"665\", \"@team1\": \"0\", \"@team2\": \"2\"}, {\"@dist\": \"929\", \"@team1\": \"0\", \"@team2\": \"3\"}, {\"@dist\": \"745\", \"@team1\": \"1\", \"@team2\": \"0\"}, {\"@dist\": \"0\", \"@team1\": \"1\", \"@team2\": \"1\"}, {\"@dist\": \"80\", \"@team1\": \"1\", \"@team2\": \"2\"}, {\"@dist\": \"337\", \"@team1\": \"1\", \"@team2\": \"3\"}, {\"@dist\": \"665\", \"@team1\": \"2\", \"@team2\": \"0\"}, {\"@dist\": \"80\", \"@team1\": \"2\", \"@team2\": \"1\"}, {\"@dist\": \"0\", \"@team1\": \"2\", \"@team2\": \"2\"}, {\"@dist\": \"380\", \"@team1\": \"2\", \"@team2\": \"3\"}, {\"@dist\": \"929\", \"@team1\": \"3\", \"@team2\": \"0\"}, {\"@dist\": \"337\", \"@team1\": \"3\", \"@team2\": \"1\"}, {\"@dist\": \"380\", \"@team1\": \"3\", \"@team2\": \"2\"}, {\"@dist\": \"0\", \"@team1\": \"3\", \"@team2\": \"3\"}]}, \"COEWeights\": null, \"Costs\": null}, \"Resources\": {\"TeamGroups\": {\"teamGroup\": {\"@id\": \"0\", \"@name\": \"All teams\"}}, \"LeagueGroups\": null, \"Leagues\": {\"league\": {\"@id\": \"0\", \"@name\": \"League 0\"}}, \"Teams\": {\"team\": [{\"@id\": \"0\", \"@league\": \"0\", \"@name\": \"ATL\", \"@teamGroups\": \"0\"}, {\"@id\": \"1\", \"@league\": \"0\", \"@name\": \"NYM\", \"@teamGroups\": \"0\"}, {\"@id\": \"2\", \"@league\": \"0\", \"@name\": \"PHI\", \"@teamGroups\": \"0\"}, {\"@id\": \"3\", \"@league\": \"0\", \"@name\": \"MON\", \"@teamGroups\": \"0\"}]}, \"SlotGroups\": null, \"Slots\": {\"slot\": [{\"@id\": \"0\", \"@name\": \"Slot0\"}, {\"@id\": \"1\", \"@name\": \"Slot1\"}, {\"@id\": \"2\", \"@name\": \"Slot2\"}, {\"@id\": \"3\", \"@name\": \"Slot3\"}, {\"@id\": \"4\", \"@name\": \"Slot4\"}, {\"@id\": \"5\", \"@name\": \"Slot5\"}]}}, \"Constraints\": {\"BasicConstraints\": null, \"CapacityConstraints\": {\"CA3\": [{\"@intp\": \"4\", \"@max\": \"3\", \"@min\": \"0\", \"@mode1\": \"H\", \"@mode2\": \"GAMES\", \"@penalty\": \"1\", \"@teamGroups1\": \"0\", \"@teamGroups2\": \"0\", \"@type\": \"HARD\"}, {\"@intp\": \"4\", \"@max\": \"3\", \"@min\": \"0\", \"@mode1\": \"A\", \"@mode2\": \"GAMES\", \"@penalty\": \"1\", \"@teamGroups1\": \"0\", \"@teamGroups2\": \"0\", \"@type\": \"HARD\"}]}, \"GameConstraints\": null, \"BreakConstraints\": null, \"FairnessConstraints\": null, \"SeparationConstraints\": {\"SE1\": {\"@max\": \"6\", \"@min\": \"1\", \"@penalty\": \"1\", \"@teamGroups\": \"0\", \"@type\": \"HARD\"}}}}}\n"
     ]
    }
   ],
   "source": [
    "# Convert XML data to JSON\n",
    "\n",
    "nl4 = xmltodict.parse(open('NL4.xml').read())\n",
    "nl4 = json.dumps(nl4)\n",
    "print(nl4)"
   ]
  },
  {
   "cell_type": "code",
   "execution_count": null,
   "id": "506c0237",
   "metadata": {},
   "outputs": [],
   "source": [
    "# Obtain relevant data\n"
   ]
  },
  {
   "cell_type": "markdown",
   "id": "eb3421a5",
   "metadata": {},
   "source": [
    "### Greedy Algorithm"
   ]
  },
  {
   "cell_type": "code",
   "execution_count": null,
   "id": "b57965c8",
   "metadata": {},
   "outputs": [],
   "source": [
    "def greedy_algorithm(n: int):\n",
    "    \"\"\"\n",
    "    Greedy algorithm for TTP data.\n",
    "    Input:\n",
    "        - n: int --> number of participating teams (even number)\n",
    "    Output:\n",
    "        - initial_sol: dict --> initial solution for double round-robin, where keys are rounds and values are lists of matchups\n",
    "    \"\"\"\n",
    "    initial_sol = dict()\n",
    "    for i in range(n - 1):\n",
    "        initial_sol[i] = []\n",
    "        \n",
    "    lexographical_matchups = [(i, j) for i in range(n - 1) for j in range(i + 1, n)]\n",
    "    \n",
    "    for matchup in lexographical_matchups:\n",
    "        for round in initial_sol.keys():\n",
    "            if initial_sol[round] == []:\n",
    "                initial_sol[round].append(matchup)\n",
    "                lexographical_matchups.remove(matchup)\n",
    "                break\n",
    "            else:\n",
    "                visited_nums = []\n",
    "                for round_match in initial_sol[round]:\n",
    "                    visited_nums.append(round_match[0])\n",
    "                    visited_nums.append(round_match[1])\n",
    "                if matchup[0] not in visited_nums and matchup[1] not in visited_nums:\n",
    "                    initial_sol[round].append(matchup)\n",
    "                    lexographical_matchups.remove(matchup)\n",
    "                visited_nums = []\n",
    "    \n",
    "    return initial_sol "
   ]
  },
  {
   "cell_type": "code",
   "execution_count": 7,
   "id": "1277213a",
   "metadata": {},
   "outputs": [
    {
     "name": "stdout",
     "output_type": "stream",
     "text": [
      "[(0, 1), (0, 2), (0, 3), (1, 2), (1, 3), (2, 3)]\n"
     ]
    }
   ],
   "source": [
    "n = 4\n",
    "lexographical_matchups = [(i, j) for i in range(n - 1) for j in range(i + 1, n)]\n",
    "print(lexographical_matchups)"
   ]
  },
  {
   "cell_type": "markdown",
   "id": "9d04a64b",
   "metadata": {},
   "source": [
    "### Simulated Annealing / Tabu Search"
   ]
  },
  {
   "cell_type": "code",
   "execution_count": null,
   "id": "40d7c627",
   "metadata": {},
   "outputs": [],
   "source": []
  }
 ],
 "metadata": {
  "kernelspec": {
   "display_name": "Python 3",
   "language": "python",
   "name": "python3"
  },
  "language_info": {
   "codemirror_mode": {
    "name": "ipython",
    "version": 3
   },
   "file_extension": ".py",
   "mimetype": "text/x-python",
   "name": "python",
   "nbconvert_exporter": "python",
   "pygments_lexer": "ipython3",
   "version": "3.10.6"
  }
 },
 "nbformat": 4,
 "nbformat_minor": 5
}
